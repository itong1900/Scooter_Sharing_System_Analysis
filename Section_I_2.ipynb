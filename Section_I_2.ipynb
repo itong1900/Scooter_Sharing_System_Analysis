{
 "cells": [
  {
   "cell_type": "markdown",
   "metadata": {},
   "source": [
    "## I-2 Hypothesis Testing\n",
    "\n",
    "Suppose that, for privacy reasons, the company has to change its policy and make the indicator of <br />whether each bike ride corresponds to a casual (customer) or non-casual (subscriber)\n",
    "user confidential.<br /><br /> In the future the company will no longer have access to this feature. However, this feature is particularly<br /> useful, because depending on the type of user the company\n",
    "might want to give them different promotions<br /> and advertisement. Therefore, in this part we\n",
    "will design a test for whether the user is casual or not. We will<br /> also try to prevent too many\n",
    "false discoveries, i.e. falsely declaring a casual user as a non-casual one."
   ]
  },
  {
   "cell_type": "markdown",
   "metadata": {},
   "source": [
    "**Labeling:** This section will generate models for Chicago's data.<br />\n",
    "* Let n denote the total number of samples. For each i $\\in \\{1,....,n\\}$, denote by $Y_{i}$ the indicator whether the user is casual ($Y_{i} = 0$) or non-casual ($Y_{i} = 1$). <br /> \n",
    "* For i $\\in \\{1,....,n\\}$, let $X_{i}$ denote the feature vector consisting of the following 3 features: trip duration, ride start time and ride stop time. As the start and stop time, simply take the hour of the corresponding time. For example, if the ride starts at 13:05, take 13 as the start time. Similar for stop time."
   ]
  },
  {
   "cell_type": "markdown",
   "metadata": {},
   "source": [
    "**Train_Test_Split:** Split the data set into three uniformly-without-replacement randomly sampled subsets:\n",
    "S1 (60% of the whole data set), S2 (20% of the whole data set) and S3 (20% of the whole\n",
    "data set). Recall that we need the model of the data under the null in order to compute\n",
    "p-values. We will use S1 and S2 to learn this model, and then compute p-values on S3."
   ]
  },
  {
   "cell_type": "code",
   "execution_count": 2,
   "metadata": {},
   "outputs": [],
   "source": [
    "import matplotlib.pyplot as plt\n",
    "import numpy as np\n",
    "import pandas as pd\n",
    "import seaborn as sns\n",
    "import scipy.stats\n",
    "import sklearn \n",
    "import math\n",
    "import statistics as stat\n",
    "from sklearn.model_selection import train_test_split\n",
    "%matplotlib inline"
   ]
  },
  {
   "cell_type": "code",
   "execution_count": 3,
   "metadata": {},
   "outputs": [],
   "source": [
    "## load the data, choose data in Chicago for this part of the question\n",
    "chi_df = pd.read_csv(\"../data/bikeshare/chicago.csv\")"
   ]
  },
  {
   "cell_type": "code",
   "execution_count": 11,
   "metadata": {},
   "outputs": [
    {
     "name": "stderr",
     "output_type": "stream",
     "text": [
      "<ipython-input-11-b3bc8766854f>:7: SettingWithCopyWarning: \n",
      "A value is trying to be set on a copy of a slice from a DataFrame.\n",
      "Try using .loc[row_indexer,col_indexer] = value instead\n",
      "\n",
      "See the caveats in the documentation: https://pandas.pydata.org/pandas-docs/stable/user_guide/indexing.html#returning-a-view-versus-a-copy\n",
      "  feature_matrix[\"tripduration\"] = feature_matrix[\"tripduration\"].div(60).round(4)\n"
     ]
    },
    {
     "data": {
      "text/html": [
       "<div>\n",
       "<style scoped>\n",
       "    .dataframe tbody tr th:only-of-type {\n",
       "        vertical-align: middle;\n",
       "    }\n",
       "\n",
       "    .dataframe tbody tr th {\n",
       "        vertical-align: top;\n",
       "    }\n",
       "\n",
       "    .dataframe thead th {\n",
       "        text-align: right;\n",
       "    }\n",
       "</style>\n",
       "<table border=\"1\" class=\"dataframe\">\n",
       "  <thead>\n",
       "    <tr style=\"text-align: right;\">\n",
       "      <th></th>\n",
       "      <th>starthour</th>\n",
       "      <th>endhour</th>\n",
       "      <th>tripduration</th>\n",
       "      <th>usertype</th>\n",
       "    </tr>\n",
       "  </thead>\n",
       "  <tbody>\n",
       "    <tr>\n",
       "      <th>0</th>\n",
       "      <td>23</td>\n",
       "      <td>23</td>\n",
       "      <td>15.4333</td>\n",
       "      <td>Subscriber</td>\n",
       "    </tr>\n",
       "    <tr>\n",
       "      <th>1</th>\n",
       "      <td>22</td>\n",
       "      <td>23</td>\n",
       "      <td>3.3000</td>\n",
       "      <td>Subscriber</td>\n",
       "    </tr>\n",
       "    <tr>\n",
       "      <th>2</th>\n",
       "      <td>22</td>\n",
       "      <td>22</td>\n",
       "      <td>2.0667</td>\n",
       "      <td>Subscriber</td>\n",
       "    </tr>\n",
       "    <tr>\n",
       "      <th>3</th>\n",
       "      <td>22</td>\n",
       "      <td>22</td>\n",
       "      <td>19.6833</td>\n",
       "      <td>Subscriber</td>\n",
       "    </tr>\n",
       "    <tr>\n",
       "      <th>4</th>\n",
       "      <td>22</td>\n",
       "      <td>22</td>\n",
       "      <td>10.9333</td>\n",
       "      <td>Subscriber</td>\n",
       "    </tr>\n",
       "  </tbody>\n",
       "</table>\n",
       "</div>"
      ],
      "text/plain": [
       "   starthour  endhour  tripduration    usertype\n",
       "0         23       23       15.4333  Subscriber\n",
       "1         22       23        3.3000  Subscriber\n",
       "2         22       22        2.0667  Subscriber\n",
       "3         22       22       19.6833  Subscriber\n",
       "4         22       22       10.9333  Subscriber"
      ]
     },
     "execution_count": 11,
     "metadata": {},
     "output_type": "execute_result"
    }
   ],
   "source": [
    "### Contruct the feature matrix \n",
    "chi_df['starttime_pd'] = pd.to_datetime(chi_df['starttime'])\n",
    "chi_df['starthour'] = chi_df['starttime_pd'].dt.hour\n",
    "chi_df['stoptime_pd'] = pd.to_datetime(chi_df['stoptime'])\n",
    "chi_df['endhour'] = chi_df['stoptime_pd'].dt.hour\n",
    "feature_matrix = chi_df[[\"starthour\", \"endhour\",\"tripduration\",\"usertype\"]]\n",
    "feature_matrix[\"tripduration\"] = feature_matrix[\"tripduration\"].div(60).round(4)\n",
    "feature_matrix.head()"
   ]
  },
  {
   "cell_type": "markdown",
   "metadata": {},
   "source": [
    "### Split the data and briefly display a summary "
   ]
  },
  {
   "cell_type": "code",
   "execution_count": 17,
   "metadata": {},
   "outputs": [
    {
     "data": {
      "text/html": [
       "<div>\n",
       "<style scoped>\n",
       "    .dataframe tbody tr th:only-of-type {\n",
       "        vertical-align: middle;\n",
       "    }\n",
       "\n",
       "    .dataframe tbody tr th {\n",
       "        vertical-align: top;\n",
       "    }\n",
       "\n",
       "    .dataframe thead th {\n",
       "        text-align: right;\n",
       "    }\n",
       "</style>\n",
       "<table border=\"1\" class=\"dataframe\">\n",
       "  <thead>\n",
       "    <tr style=\"text-align: right;\">\n",
       "      <th></th>\n",
       "      <th>DataSet</th>\n",
       "      <th># of Observation</th>\n",
       "      <th># of variables</th>\n",
       "    </tr>\n",
       "  </thead>\n",
       "  <tbody>\n",
       "    <tr>\n",
       "      <th>0</th>\n",
       "      <td>S1</td>\n",
       "      <td>43278</td>\n",
       "      <td>4</td>\n",
       "    </tr>\n",
       "    <tr>\n",
       "      <th>1</th>\n",
       "      <td>S2</td>\n",
       "      <td>14426</td>\n",
       "      <td>4</td>\n",
       "    </tr>\n",
       "    <tr>\n",
       "      <th>2</th>\n",
       "      <td>S3</td>\n",
       "      <td>14427</td>\n",
       "      <td>4</td>\n",
       "    </tr>\n",
       "  </tbody>\n",
       "</table>\n",
       "</div>"
      ],
      "text/plain": [
       "  DataSet  # of Observation  # of variables\n",
       "0      S1             43278               4\n",
       "1      S2             14426               4\n",
       "2      S3             14427               4"
      ]
     },
     "execution_count": 17,
     "metadata": {},
     "output_type": "execute_result"
    }
   ],
   "source": [
    "### Split the data\n",
    "S1, S2, S3 = np.split(feature_matrix.sample(frac=1), [int(.6*len(feature_matrix)), int(.8*len(feature_matrix))])\n",
    "data = [['S1', S1.shape[0],S1.shape[1]], ['S2', S2.shape[0], S2.shape[1]], ['S3', S3.shape[0],S3.shape[1]]]\n",
    "df = pd.DataFrame(data, columns = ['DataSet', '# of Observation', '# of variables']) \n",
    "df"
   ]
  },
  {
   "cell_type": "markdown",
   "metadata": {},
   "source": [
    "### 2.1 Logistic Regression\n",
    "\n",
    "${Pr}(Y_{i} = 1 | X_{i}) = \\frac{1}{1 + e^{-\\theta^{T}X_{i} } }$\n",
    "\n",
    "for some $\\theta= (\\theta_{1}, \\theta_{2}, \\theta_{3})$. Use S1 to train a logistic regression model for predicting $Y_{i}$<br />\n",
    "from $X_{i}$ according to the above model. Denote by $\\theta_{*}$ the learned value of $\\theta$. "
   ]
  },
  {
   "cell_type": "markdown",
   "metadata": {},
   "source": [
    "**Apply the logistic regression on S1 with sklearn package, and we get the $\\theta$ estimates as followe**"
   ]
  },
  {
   "cell_type": "code",
   "execution_count": 13,
   "metadata": {},
   "outputs": [],
   "source": [
    "from sklearn.linear_model import LogisticRegression"
   ]
  },
  {
   "cell_type": "code",
   "execution_count": 18,
   "metadata": {},
   "outputs": [],
   "source": [
    "S1_x = S1[[\"starthour\", \"endhour\",\"tripduration\"]]\n",
    "S1_y = S1[\"usertype\"]\n",
    "S2_x = S2[[\"starthour\", \"endhour\",\"tripduration\"]]\n",
    "S2_y = S2[\"usertype\"]\n",
    "S3_x = S3[[\"starthour\", \"endhour\",\"tripduration\"]]\n",
    "S3_y = S3[\"usertype\"]"
   ]
  },
  {
   "cell_type": "code",
   "execution_count": 19,
   "metadata": {},
   "outputs": [
    {
     "data": {
      "text/plain": [
       "LogisticRegression()"
      ]
     },
     "execution_count": 19,
     "metadata": {},
     "output_type": "execute_result"
    }
   ],
   "source": [
    "# fit the model\n",
    "logisticRegr = LogisticRegression()\n",
    "logisticRegr.fit(S1_x, S1_y)"
   ]
  },
  {
   "cell_type": "code",
   "execution_count": 20,
   "metadata": {},
   "outputs": [
    {
     "data": {
      "text/plain": [
       "array([[-0.01514543, -0.02127695, -0.08645444]])"
      ]
     },
     "execution_count": 20,
     "metadata": {},
     "output_type": "execute_result"
    }
   ],
   "source": [
    "## Get theta estimates\n",
    "theta_star = logisticRegr.coef_\n",
    "theta_star"
   ]
  },
  {
   "cell_type": "markdown",
   "metadata": {},
   "source": [
    "#### Fitted $\\theta$ displayed"
   ]
  },
  {
   "cell_type": "code",
   "execution_count": 30,
   "metadata": {},
   "outputs": [
    {
     "data": {
      "text/html": [
       "<div>\n",
       "<style scoped>\n",
       "    .dataframe tbody tr th:only-of-type {\n",
       "        vertical-align: middle;\n",
       "    }\n",
       "\n",
       "    .dataframe tbody tr th {\n",
       "        vertical-align: top;\n",
       "    }\n",
       "\n",
       "    .dataframe thead th {\n",
       "        text-align: right;\n",
       "    }\n",
       "</style>\n",
       "<table border=\"1\" class=\"dataframe\">\n",
       "  <thead>\n",
       "    <tr style=\"text-align: right;\">\n",
       "      <th></th>\n",
       "      <th>theta_star</th>\n",
       "      <th>value</th>\n",
       "    </tr>\n",
       "  </thead>\n",
       "  <tbody>\n",
       "    <tr>\n",
       "      <th>0</th>\n",
       "      <td>$\\theta_{* starthour}$</td>\n",
       "      <td>-0.015145</td>\n",
       "    </tr>\n",
       "    <tr>\n",
       "      <th>1</th>\n",
       "      <td>$\\theta_{* endhour}$</td>\n",
       "      <td>-0.021277</td>\n",
       "    </tr>\n",
       "    <tr>\n",
       "      <th>2</th>\n",
       "      <td>$\\theta_{* tripDuration}$</td>\n",
       "      <td>-0.086454</td>\n",
       "    </tr>\n",
       "  </tbody>\n",
       "</table>\n",
       "</div>"
      ],
      "text/plain": [
       "                  theta_star     value\n",
       "0     $\\theta_{* starthour}$ -0.015145\n",
       "1       $\\theta_{* endhour}$ -0.021277\n",
       "2  $\\theta_{* tripDuration}$ -0.086454"
      ]
     },
     "execution_count": 30,
     "metadata": {},
     "output_type": "execute_result"
    }
   ],
   "source": [
    "data = [['$\\theta_{* starthour}$', theta_star[0][0]], ['$\\theta_{* endhour}$', theta_star[0][1]], ['$\\theta_{* tripDuration}$', theta_star[0][2]]]\n",
    "df = pd.DataFrame(data, columns = ['theta_star', 'value']) \n",
    "df"
   ]
  },
  {
   "cell_type": "markdown",
   "metadata": {},
   "source": [
    "### 2.2 P-values Calculations under two methods\n",
    "* For each sample $(X_{i},Y_{i})$ in $S_{2}$, compute $s_{i}^{(2)} = \\frac{1}{1 + e^{-\\theta_{*}^{T}X_{i} } }$\n",
    "* For each sample $(X_{j},Y_{j})$ in $S_{3}$, compute a p-value as $P_{j} = \\frac{1}{|{S_{2,0}}|} \\{i \\in S_{2,0}: s_{i}^{(2)} > s_{j}^{(3)} \\}$  , \n",
    "<br /> where $S_{2,0}$ is the subset of $S_{2}$ that consists of casual users\n",
    "($Y_{i} = 0$), \n",
    "<br /> as usual we use $|\\cdot|$ to denote the cardinality of a set,\n",
    "<br />usage will be explained after."
   ]
  },
  {
   "cell_type": "code",
   "execution_count": 41,
   "metadata": {},
   "outputs": [],
   "source": [
    "## Compute the si2\n",
    "si_2 = logisticRegr.predict_proba(S2_x)[:, 1]"
   ]
  },
  {
   "cell_type": "code",
   "execution_count": 61,
   "metadata": {},
   "outputs": [
    {
     "data": {
      "image/png": "[encoded data removed]",
      "text/plain": [
       "<Figure size 432x288 with 1 Axes>"
      ]
     },
     "metadata": {
      "needs_background": "light"
     },
     "output_type": "display_data"
    }
   ],
   "source": [
    "## plot p-values of S2\n",
    "S2[\"prob\"] = si_2\n",
    "plt.hist(S2[S2[\"usertype\"] == \"Subscriber\"]['prob'], bins = 60)\n",
    "plt.hist(S2[S2[\"usertype\"] == \"Customer\"]['prob'], bins = 60)\n",
    "plt.ylabel(\"counts\")\n",
    "plt.xlabel(\"${Pr}(Y_{i} = 1 | X_{i}$)\")\n",
    "plt.legend([\"Subscriber\", \"Customer\"])\n",
    "plt.title(\"Distribution of each S2 sample's probability to be a subscriber\")\n",
    "plt.show()"
   ]
  },
  {
   "cell_type": "markdown",
   "metadata": {},
   "source": [
    "**Interpretation:** This is a traditional logistic regression, and we see the counts of both customer and subscriber peak up when ${Pr}(Y_{i} = 1 | X_{i})$ gets larger, that leads to a higher false positive rate. To fix this issue, we apply some correction algorithms like what we did for S3"
   ]
  },
  {
   "cell_type": "code",
   "execution_count": 43,
   "metadata": {},
   "outputs": [
    {
     "name": "stdout",
     "output_type": "stream",
     "text": [
      "(14426,) (14426, 5)\n",
      "number of elements in S_2,0: 3415\n"
     ]
    }
   ],
   "source": [
    "## Compute si3 \n",
    "si_3 = logisticRegr.predict_proba(S3_x)[:, 1]\n",
    "### get the S_2,0 group\n",
    "print(si_2.shape, S2.shape)\n",
    "si_20 = si_2[S2[\"usertype\"] == \"Customer\"]\n",
    "print(\"number of elements in S_2,0:\", len(si_20))"
   ]
  },
  {
   "cell_type": "code",
   "execution_count": 44,
   "metadata": {},
   "outputs": [
    {
     "data": {
      "text/html": [
       "<div>\n",
       "<style scoped>\n",
       "    .dataframe tbody tr th:only-of-type {\n",
       "        vertical-align: middle;\n",
       "    }\n",
       "\n",
       "    .dataframe tbody tr th {\n",
       "        vertical-align: top;\n",
       "    }\n",
       "\n",
       "    .dataframe thead th {\n",
       "        text-align: right;\n",
       "    }\n",
       "</style>\n",
       "<table border=\"1\" class=\"dataframe\">\n",
       "  <thead>\n",
       "    <tr style=\"text-align: right;\">\n",
       "      <th></th>\n",
       "      <th>starthour</th>\n",
       "      <th>endhour</th>\n",
       "      <th>tripduration</th>\n",
       "      <th>usertype</th>\n",
       "      <th>p-value</th>\n",
       "    </tr>\n",
       "  </thead>\n",
       "  <tbody>\n",
       "    <tr>\n",
       "      <th>1833</th>\n",
       "      <td>6</td>\n",
       "      <td>7</td>\n",
       "      <td>22.4333</td>\n",
       "      <td>Subscriber</td>\n",
       "      <td>0.371596</td>\n",
       "    </tr>\n",
       "    <tr>\n",
       "      <th>21841</th>\n",
       "      <td>8</td>\n",
       "      <td>8</td>\n",
       "      <td>7.4167</td>\n",
       "      <td>Subscriber</td>\n",
       "      <td>0.023133</td>\n",
       "    </tr>\n",
       "    <tr>\n",
       "      <th>18758</th>\n",
       "      <td>17</td>\n",
       "      <td>17</td>\n",
       "      <td>20.4167</td>\n",
       "      <td>Subscriber</td>\n",
       "      <td>0.449195</td>\n",
       "    </tr>\n",
       "    <tr>\n",
       "      <th>54189</th>\n",
       "      <td>10</td>\n",
       "      <td>11</td>\n",
       "      <td>21.5167</td>\n",
       "      <td>Customer</td>\n",
       "      <td>0.395900</td>\n",
       "    </tr>\n",
       "    <tr>\n",
       "      <th>9013</th>\n",
       "      <td>14</td>\n",
       "      <td>14</td>\n",
       "      <td>14.6167</td>\n",
       "      <td>Subscriber</td>\n",
       "      <td>0.215227</td>\n",
       "    </tr>\n",
       "  </tbody>\n",
       "</table>\n",
       "</div>"
      ],
      "text/plain": [
       "       starthour  endhour  tripduration    usertype   p-value\n",
       "1833           6        7       22.4333  Subscriber  0.371596\n",
       "21841          8        8        7.4167  Subscriber  0.023133\n",
       "18758         17       17       20.4167  Subscriber  0.449195\n",
       "54189         10       11       21.5167    Customer  0.395900\n",
       "9013          14       14       14.6167  Subscriber  0.215227"
      ]
     },
     "execution_count": 44,
     "metadata": {},
     "output_type": "execute_result"
    }
   ],
   "source": [
    "## calculate the p-values of S3 by the criteria described above\n",
    "P_s3 = []\n",
    "for i in range(len(S3)):\n",
    "    P_s3.append(np.sum(si_20 > si_3[i]) / si_20.shape[0])\n",
    "S3[\"p-value\"] = P_s3  \n",
    "S3.head()"
   ]
  },
  {
   "cell_type": "code",
   "execution_count": 45,
   "metadata": {},
   "outputs": [
    {
     "data": {
      "image/png": "[encoded data removed]",
      "text/plain": [
       "<Figure size 432x288 with 1 Axes>"
      ]
     },
     "metadata": {
      "needs_background": "light"
     },
     "output_type": "display_data"
    }
   ],
   "source": [
    "## plot p-values of S3\n",
    "plt.hist(S3[S3[\"usertype\"] == \"Subscriber\"]['p-value'], bins = 60)\n",
    "plt.hist(S3[S3[\"usertype\"] == \"Customer\"]['p-value'], bins = 60)\n",
    "plt.ylabel(\"counts\")\n",
    "plt.xlabel(\"p-values\")\n",
    "plt.legend([\"Subscriber\", \"Customer\"])\n",
    "plt.title(\"Distribution of S3 p-values\")\n",
    "plt.show()"
   ]
  },
  {
   "cell_type": "markdown",
   "metadata": {},
   "source": [
    "**Interpretation:** the p-values of subscribers and casual customers are distributbed differently under the \"S3\" algorithm.\n",
    "\n",
    "The p-values of subscribers are distributed heavily right tail, with most p-values lying range between 0.0 and 0.2. That's a<br /> good sign as the we do want subscribers have small p-values, so that we have sufficient evidence to \"reject Null\" and <br />classify them as Subscribers(correct labeling).\n",
    "\n",
    "By contrast, the p-values of casual customers are distributed uniformly, and does not peak up when p-values gets closer to<br /> 0, and that reduces the false positive rate to some extent.\n",
    "\n",
    "Therefore, with a small p-value, we have more confidence to predict a rider as a subscriber comparing to S2. I will explore<br /> how much better it is in 2.3"
   ]
  },
  {
   "cell_type": "markdown",
   "metadata": {},
   "source": [
    "### 2.3 Benjamini-Hochberg\n",
    "\n",
    "With $|S_{3}|$ p-values, run the Benjamini-Hochberg algorithm under level\n",
    "0.2 on these p-values, and compute the false discovery proportion (FDP) and sensitivity.\n",
    "Repeat the whole procedure from above for 200 different randomly sampled $S_{1}$, $S_{2}$ and\n",
    "$S_{3}$. Then we would have 200 sets of $S_{3}$\n",
    "p-values, and get 200 different false discovery proportions and sensitivities. Report the\n",
    "average FDP and sensitivity over these 200 trials. Is the average FDP above or below\n",
    "0:2? Can you explain why it is or isn't?"
   ]
  },
  {
   "cell_type": "code",
   "execution_count": 49,
   "metadata": {},
   "outputs": [],
   "source": [
    "def benjamini_hochberg(p_values, alpha):\n",
    "    # returns decisions: a binary vector of the same length as p-values, \n",
    "    # where decisions[i] is 1 if p_values[i] is deemed significant at level alpha, and 0 otherwize\n",
    "    \n",
    "    n = len(p_values)\n",
    "    p_sorted = np.sort(p_values)\n",
    "\n",
    "    decisions = np.zeros(len(p_values))\n",
    "\n",
    "    for j in range(len(p_values)):\n",
    "        if p_sorted[j] <= (j+1)*alpha/n:\n",
    "            largest_k = j\n",
    "        \n",
    "    for t in range(len(p_values)):\n",
    "        if p_values[t] <= p_sorted[largest_k]:\n",
    "            decisions[t] = True\n",
    "        else:\n",
    "            decisions[t] = False    \n",
    "\n",
    "    return decisions"
   ]
  },
  {
   "cell_type": "code",
   "execution_count": 50,
   "metadata": {},
   "outputs": [],
   "source": [
    "decisions = benjamini_hochberg(P_s3, 0.2)\n",
    "S3[\"decisions\"] = decisions"
   ]
  },
  {
   "cell_type": "code",
   "execution_count": 60,
   "metadata": {},
   "outputs": [
    {
     "name": "stdout",
     "output_type": "stream",
     "text": [
      "FDR         :  0.020378457059679767\n",
      "Sensitivity :  0.3204408400914951\n"
     ]
    }
   ],
   "source": [
    "### Get FDR & sensitivity\n",
    "FDR = sum((S3[\"usertype\"] == \"Customer\") & (S3[\"decisions\"] == 1))/len(S3)\n",
    "Sen = sum((S3[\"usertype\"] == \"Subscriber\") & (S3[\"decisions\"] == 1))/len(S3)\n",
    "print(\"FDR         : \", FDR)\n",
    "print(\"Sensitivity : \", Sen)"
   ]
  },
  {
   "cell_type": "code",
   "execution_count": 53,
   "metadata": {},
   "outputs": [],
   "source": [
    "## Repeat for 200 times and find the average\n",
    "def FDR_Sen(df): \n",
    "    ### Split the data\n",
    "    #feature_matrix = df.sample(frac=1).reset_index(drop=True)\n",
    "    S1, S2, S3 = np.split(feature_matrix.sample(frac=1), [int(.6*len(feature_matrix)), int(.8*len(feature_matrix))])\n",
    "        \n",
    "    ### data split\n",
    "    S1_x = S1[[\"starthour\", \"endhour\",\"tripduration\"]]\n",
    "    S1_y = S1[\"usertype\"]\n",
    "    S2_x = S2[[\"starthour\", \"endhour\",\"tripduration\"]]\n",
    "    S2_y = S2[\"usertype\"]\n",
    "    S3_x = S3[[\"starthour\", \"endhour\",\"tripduration\"]]\n",
    "    S3_y = S3[\"usertype\"]\n",
    "    \n",
    "    ## logistic fit\n",
    "    logisticRegr = LogisticRegression()\n",
    "    logisticRegr.fit(S1_x, S1_y)\n",
    "    \n",
    "    si_2 = logisticRegr.predict_proba(S2_x)[:, 1]\n",
    "    si_3 = logisticRegr.predict_proba(S3_x)[:, 1]\n",
    "    \n",
    "    si_20 = si_2[S2[\"usertype\"] == \"Customer\"]\n",
    "    \n",
    "    P_s3 = []\n",
    "    for i in range(len(S3)):\n",
    "        P_s3.append(np.sum(si_20 > si_3[i]) / si_20.shape[0])\n",
    "        \n",
    "    S3[\"p-value\"] = P_s3\n",
    "    decisions = benjamini_hochberg(P_s3, 0.2)\n",
    "    S3[\"decisions\"] = decisions\n",
    "    \n",
    "    FDR = sum((S3[\"usertype\"] == \"Customer\") & (S3[\"decisions\"] == 1) == True)/len(S3)\n",
    "    Sen = sum((S3[\"usertype\"] == \"Subscriber\") & (S3[\"decisions\"] == 1) == True)/len(S3)\n",
    "\n",
    "    return FDR, Sen"
   ]
  },
  {
   "cell_type": "code",
   "execution_count": 54,
   "metadata": {},
   "outputs": [],
   "source": [
    "FDRs = []\n",
    "SENs = []\n",
    "for i in range(200):\n",
    "    values = FDR_Sen(feature_matrix)\n",
    "    FDRs.append(values[0])\n",
    "    SENs.append(values[1])"
   ]
  },
  {
   "cell_type": "code",
   "execution_count": 59,
   "metadata": {},
   "outputs": [
    {
     "name": "stdout",
     "output_type": "stream",
     "text": [
      "FDP(Average false discovery rate) :  0.013377001455604077\n",
      "Average Sensitivity               :  0.260093921120122\n"
     ]
    }
   ],
   "source": [
    "print(\"FDP(Average false discovery rate) : \", stat.mean(FDRs))\n",
    "print(\"Average Sensitivity               : \", stat.mean(SENs))"
   ]
  },
  {
   "cell_type": "markdown",
   "metadata": {},
   "source": [
    "#### In traditional decision method \n",
    "Let's also compute the FDP and average sensitivity using regular traditional decision method for $S_{2}$: <br />(decision = 1 if $s_{i}^{(2)} > 0.5$; decision = 0 if $s_{i}^{(2)} \\leq 0.5$)"
   ]
  },
  {
   "cell_type": "code",
   "execution_count": 63,
   "metadata": {},
   "outputs": [],
   "source": [
    "S2[\"decisions\"] = np.where(S2['prob'] > 0.5, True, False)"
   ]
  },
  {
   "cell_type": "code",
   "execution_count": 65,
   "metadata": {},
   "outputs": [
    {
     "name": "stdout",
     "output_type": "stream",
     "text": [
      "FDR         :  0.1687924580618328\n",
      "Sensitivity :  0.7451129904339387\n"
     ]
    }
   ],
   "source": [
    "### Get FDR & sensitivity\n",
    "FDR = sum((S2[\"usertype\"] == \"Customer\") & (S2[\"decisions\"] == 1))/len(S2)\n",
    "Sen = sum((S2[\"usertype\"] == \"Subscriber\") & (S2[\"decisions\"] == 1))/len(S2)\n",
    "print(\"FDR         : \", FDR)\n",
    "print(\"Sensitivity : \", Sen)"
   ]
  },
  {
   "cell_type": "markdown",
   "metadata": {},
   "source": [
    "**Interpretation:** Benjamini_Hochberg successfully decrease the false discovery rate, but meanwhile diminish the sensitivity, in the next part. We'll explore how to improve average sensitivity as well as maintaing the low FDP."
   ]
  },
  {
   "cell_type": "code",
   "execution_count": null,
   "metadata": {},
   "outputs": [],
   "source": []
  }
 ],
 "metadata": {
  "kernelspec": {
   "display_name": "Python 3",
   "language": "python",
   "name": "python3"
  },
  "language_info": {
   "codemirror_mode": {
    "name": "ipython",
    "version": 3
   },
   "file_extension": ".py",
   "mimetype": "text/x-python",
   "name": "python",
   "nbconvert_exporter": "python",
   "pygments_lexer": "ipython3",
   "version": "3.8.3"
  }
 },
 "nbformat": 4,
 "nbformat_minor": 4
}
