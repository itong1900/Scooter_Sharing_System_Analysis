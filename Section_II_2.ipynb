{
 "cells": [
  {
   "cell_type": "markdown",
   "metadata": {},
   "source": [
    "# II-2 Privacy Concern"
   ]
  },
  {
   "cell_type": "markdown",
   "metadata": {},
   "source": [
    "## Data Info\n",
    "Given the usefulness of the bikeshare datasets the company decided to release a dataset of\n",
    "scooter rentals that they have aggregated over the past year within Berkeley. The dataset\n",
    "can be found at https://github.com/ds-102/fa19/tree/master/project/berkeley.csv and has\n",
    "a very similar format to the chicago.csv, ny.csv, and dc.csv datasets. It includes the zip code\n",
    "at which the scooter was rented, and the zip code it was dropped off at, the year and birth\n",
    "month of the renter, and the sex of the renter. The public version also includes the exact\n",
    "GPS coordinates of scooter pickups and dropoffs but were excluded it here for simplicity."
   ]
  },
  {
   "cell_type": "markdown",
   "metadata": {},
   "source": [
    "## Background\n",
    "Unfortunately a separate dataset was leaked which includes the full name of all the users, <br/>\n",
    "their month and year of birth, their sex, and the zip code of their address. \n",
    "You can find the <br/>leaked file at https://github.com/ds-102/fa19/tree/master/project/leaked.csv. You’ve been\n",
    "<br/>tasked with investigating the severity of this leak."
   ]
  },
  {
   "cell_type": "code",
   "execution_count": 2,
   "metadata": {},
   "outputs": [],
   "source": [
    "import matplotlib.pyplot as plt\n",
    "import numpy as np\n",
    "import pandas as pd\n",
    "import seaborn as sns\n",
    "import scipy.stats\n",
    "import math\n",
    "%matplotlib inline"
   ]
  },
  {
   "cell_type": "code",
   "execution_count": 3,
   "metadata": {},
   "outputs": [],
   "source": [
    "## load the data\n",
    "berkeley_df = pd.read_csv(\"../data/bikeshare/berkeley.csv\")\n",
    "leak_df = pd.read_csv(\"../data/bikeshare/leaked.csv\")"
   ]
  },
  {
   "cell_type": "markdown",
   "metadata": {},
   "source": [
    "## 2.1 Exploratory Analysis"
   ]
  },
  {
   "cell_type": "code",
   "execution_count": 36,
   "metadata": {},
   "outputs": [
    {
     "data": {
      "image/png": "[encoded data removed]",
      "text/plain": [
       "<Figure size 432x288 with 1 Axes>"
      ]
     },
     "metadata": {
      "needs_background": "light"
     },
     "output_type": "display_data"
    }
   ],
   "source": [
    "###  Plot the distribution of male to female riders for leaked.csv.\n",
    "leak_df['sex'].value_counts().plot(kind = \"bar\", color = [\"#007ac2\",\"Orange\"])\n",
    "plt.title(\"Distribution of Riders in Gender, leak\")\n",
    "plt.ylabel(\"counts\")\n",
    "plt.show()"
   ]
  },
  {
   "cell_type": "code",
   "execution_count": 9,
   "metadata": {},
   "outputs": [
    {
     "data": {
      "image/png": "[encoded data removed]",
      "text/plain": [
       "<Figure size 432x288 with 1 Axes>"
      ]
     },
     "metadata": {
      "needs_background": "light"
     },
     "output_type": "display_data"
    }
   ],
   "source": [
    "### Plot the distribution of the birth years of bike renters in Leaked\n",
    "leak_df['month'].hist(bins = 12)\n",
    "plt.title(\"Distribution of Riders in month birth, leaked\")\n",
    "plt.ylabel(\"counts\")\n",
    "plt.show()"
   ]
  },
  {
   "cell_type": "code",
   "execution_count": 8,
   "metadata": {},
   "outputs": [
    {
     "data": {
      "image/png": "[encoded data removed]",
      "text/plain": [
       "<Figure size 432x288 with 1 Axes>"
      ]
     },
     "metadata": {
      "needs_background": "light"
     },
     "output_type": "display_data"
    }
   ],
   "source": [
    "### Plot the distribution of the birth years of bike renters in Leaked\n",
    "leak_df['year'].hist(bins = 11)\n",
    "plt.title(\"Distribution of Riders in year birth, leaked\")\n",
    "plt.ylabel(\"counts\")\n",
    "plt.show()"
   ]
  },
  {
   "cell_type": "code",
   "execution_count": 12,
   "metadata": {},
   "outputs": [
    {
     "data": {
      "text/html": [
       "<div>\n",
       "<style scoped>\n",
       "    .dataframe tbody tr th:only-of-type {\n",
       "        vertical-align: middle;\n",
       "    }\n",
       "\n",
       "    .dataframe tbody tr th {\n",
       "        vertical-align: top;\n",
       "    }\n",
       "\n",
       "    .dataframe thead th {\n",
       "        text-align: right;\n",
       "    }\n",
       "</style>\n",
       "<table border=\"1\" class=\"dataframe\">\n",
       "  <thead>\n",
       "    <tr style=\"text-align: right;\">\n",
       "      <th></th>\n",
       "      <th>sex</th>\n",
       "      <th>month</th>\n",
       "      <th>year</th>\n",
       "      <th>start</th>\n",
       "      <th>end</th>\n",
       "    </tr>\n",
       "  </thead>\n",
       "  <tbody>\n",
       "    <tr>\n",
       "      <th>0</th>\n",
       "      <td>M</td>\n",
       "      <td>12</td>\n",
       "      <td>1999</td>\n",
       "      <td>94704</td>\n",
       "      <td>94704</td>\n",
       "    </tr>\n",
       "    <tr>\n",
       "      <th>1</th>\n",
       "      <td>M</td>\n",
       "      <td>12</td>\n",
       "      <td>2000</td>\n",
       "      <td>94706</td>\n",
       "      <td>94706</td>\n",
       "    </tr>\n",
       "    <tr>\n",
       "      <th>2</th>\n",
       "      <td>M</td>\n",
       "      <td>4</td>\n",
       "      <td>1999</td>\n",
       "      <td>94703</td>\n",
       "      <td>94703</td>\n",
       "    </tr>\n",
       "    <tr>\n",
       "      <th>3</th>\n",
       "      <td>M</td>\n",
       "      <td>2</td>\n",
       "      <td>1999</td>\n",
       "      <td>94710</td>\n",
       "      <td>94710</td>\n",
       "    </tr>\n",
       "    <tr>\n",
       "      <th>4</th>\n",
       "      <td>M</td>\n",
       "      <td>12</td>\n",
       "      <td>1994</td>\n",
       "      <td>94707</td>\n",
       "      <td>94707</td>\n",
       "    </tr>\n",
       "  </tbody>\n",
       "</table>\n",
       "</div>"
      ],
      "text/plain": [
       "  sex  month  year  start    end\n",
       "0   M     12  1999  94704  94704\n",
       "1   M     12  2000  94706  94706\n",
       "2   M      4  1999  94703  94703\n",
       "3   M      2  1999  94710  94710\n",
       "4   M     12  1994  94707  94707"
      ]
     },
     "execution_count": 12,
     "metadata": {},
     "output_type": "execute_result"
    }
   ],
   "source": [
    "# A glance at berkeley.csv\n",
    "berkeley_df.head()"
   ]
  },
  {
   "cell_type": "code",
   "execution_count": 13,
   "metadata": {},
   "outputs": [
    {
     "data": {
      "text/html": [
       "<div>\n",
       "<style scoped>\n",
       "    .dataframe tbody tr th:only-of-type {\n",
       "        vertical-align: middle;\n",
       "    }\n",
       "\n",
       "    .dataframe tbody tr th {\n",
       "        vertical-align: top;\n",
       "    }\n",
       "\n",
       "    .dataframe thead th {\n",
       "        text-align: right;\n",
       "    }\n",
       "</style>\n",
       "<table border=\"1\" class=\"dataframe\">\n",
       "  <thead>\n",
       "    <tr style=\"text-align: right;\">\n",
       "      <th></th>\n",
       "      <th>name</th>\n",
       "      <th>sex</th>\n",
       "      <th>zip</th>\n",
       "      <th>month</th>\n",
       "      <th>year</th>\n",
       "    </tr>\n",
       "  </thead>\n",
       "  <tbody>\n",
       "    <tr>\n",
       "      <th>0</th>\n",
       "      <td>Avery Phillips</td>\n",
       "      <td>M</td>\n",
       "      <td>94709</td>\n",
       "      <td>3</td>\n",
       "      <td>1993</td>\n",
       "    </tr>\n",
       "    <tr>\n",
       "      <th>1</th>\n",
       "      <td>Grayson Rodriguez</td>\n",
       "      <td>M</td>\n",
       "      <td>94705</td>\n",
       "      <td>6</td>\n",
       "      <td>1998</td>\n",
       "    </tr>\n",
       "    <tr>\n",
       "      <th>2</th>\n",
       "      <td>Ethan Baker</td>\n",
       "      <td>M</td>\n",
       "      <td>94712</td>\n",
       "      <td>1</td>\n",
       "      <td>1998</td>\n",
       "    </tr>\n",
       "    <tr>\n",
       "      <th>3</th>\n",
       "      <td>Carter Wright</td>\n",
       "      <td>M</td>\n",
       "      <td>94720</td>\n",
       "      <td>7</td>\n",
       "      <td>1995</td>\n",
       "    </tr>\n",
       "    <tr>\n",
       "      <th>4</th>\n",
       "      <td>Elijah Young</td>\n",
       "      <td>M</td>\n",
       "      <td>94706</td>\n",
       "      <td>2</td>\n",
       "      <td>1996</td>\n",
       "    </tr>\n",
       "  </tbody>\n",
       "</table>\n",
       "</div>"
      ],
      "text/plain": [
       "                name sex    zip  month  year\n",
       "0     Avery Phillips   M  94709      3  1993\n",
       "1  Grayson Rodriguez   M  94705      6  1998\n",
       "2        Ethan Baker   M  94712      1  1998\n",
       "3      Carter Wright   M  94720      7  1995\n",
       "4       Elijah Young   M  94706      2  1996"
      ]
     },
     "execution_count": 13,
     "metadata": {},
     "output_type": "execute_result"
    }
   ],
   "source": [
    "# A glance at leak_df.csv\n",
    "leak_df.head()"
   ]
  },
  {
   "cell_type": "markdown",
   "metadata": {},
   "source": [
    "## 2.2 Simple Proof of Concept"
   ]
  },
  {
   "cell_type": "markdown",
   "metadata": {},
   "source": [
    "**In this section I will perform a linkage attack given berkeley.csv and leaked.csv. We’ll start with a simpler attack that only uses a subset of the leaked data.**\n",
    "\n",
    "* Isolate the users from leaked.csv that can be uniquely identified based only on year/month of <br/>birth and their sex. We will call this subset “identifiable users” for the rest of this section."
   ]
  },
  {
   "cell_type": "code",
   "execution_count": 15,
   "metadata": {},
   "outputs": [
    {
     "name": "stdout",
     "output_type": "stream",
     "text": [
      "    # of identifiable user :  43\n"
     ]
    }
   ],
   "source": [
    "copy = leak_df.groupby([\"sex\",\"month\",\"year\"]).count() == 1\n",
    "copy[\"unique\"] = copy[\"name\"]\n",
    "print(\"    # of identifiable user : \", sum(copy[\"unique\"]) ) "
   ]
  },
  {
   "cell_type": "markdown",
   "metadata": {},
   "source": [
    "* Plot the number of females and the number of males in the set of identifiable users"
   ]
  },
  {
   "cell_type": "code",
   "execution_count": 28,
   "metadata": {},
   "outputs": [
    {
     "data": {
      "image/png": "[encoded data removed]",
      "text/plain": [
       "<Figure size 432x288 with 1 Axes>"
      ]
     },
     "metadata": {
      "needs_background": "light"
     },
     "output_type": "display_data"
    }
   ],
   "source": [
    "identifiable_users = copy[copy[\"unique\"]]\n",
    "identifiable_users = identifiable_users.reset_index()\n",
    "\n",
    "identifiable_users['sex'].value_counts().plot(kind = \"bar\", color = [\"#007ac2\",\"Orange\"])\n",
    "plt.title(\"Sex distribution of identifiable user\")\n",
    "plt.ylabel(\"count\")\n",
    "plt.show()"
   ]
  },
  {
   "cell_type": "markdown",
   "metadata": {},
   "source": [
    "**The sex distribution doesn't match. The sex distribution of identifiable user is very different from the 2.1 (sex distribution of leaked.csv).** \n",
    "<br/><br/>The potential reasons are:\n",
    "* Most \"identifiable user\" in the leaked.csv are female, because in overall, the total quantity of female user is less than male user. Therefore, female users are more \"identifiable\" with other information given combined with the fact that they are female. \n",
    "* This may happen because Scooters are in general less popular among female riders, so once they rent the scooters, those records are very \"identifiable\"."
   ]
  },
  {
   "cell_type": "code",
   "execution_count": 37,
   "metadata": {},
   "outputs": [
    {
     "data": {
      "image/png": "[encoded data removed]",
      "text/plain": [
       "<Figure size 432x288 with 1 Axes>"
      ]
     },
     "metadata": {
      "needs_background": "light"
     },
     "output_type": "display_data"
    }
   ],
   "source": [
    "## Plot the distribution of birth months for identifiable user\n",
    "identifiable_users['month'].value_counts().plot(kind = \"bar\", color = [\"#007ac2\",\"Orange\",\"#5d2ac2\",\"#ffbf94\",\"#ff9598\",\"#ffa0c4\",\"#4ea91c\"])\n",
    "plt.title(\"Birth month distribution of identifiable user\")\n",
    "plt.ylabel(\"count\")\n",
    "plt.show()"
   ]
  },
  {
   "cell_type": "markdown",
   "metadata": {},
   "source": [
    "**It doesn't match the birth month of identifiable user is distributed not so uniform as in 2.1 (birth month of all leaked user).** \n",
    "<br/><br/> It makes sense that in October it has most identifiable user as there are most leaked user in October. Though this distribution is not so uniform, if we look at it carefully, the gap between the highest column and lowest  column is only 5 count. It's likely that this \"non-uniform\" is due to the small sample size, since \"identifiable user\" are a group of 43 samples out of 1000 data."
   ]
  },
  {
   "cell_type": "markdown",
   "metadata": {},
   "source": [
    "**For each identifiable user, extract the scooter rentals they have made from berkeley.csv.**"
   ]
  },
  {
   "cell_type": "code",
   "execution_count": 41,
   "metadata": {},
   "outputs": [
    {
     "data": {
      "text/html": [
       "<div>\n",
       "<style scoped>\n",
       "    .dataframe tbody tr th:only-of-type {\n",
       "        vertical-align: middle;\n",
       "    }\n",
       "\n",
       "    .dataframe tbody tr th {\n",
       "        vertical-align: top;\n",
       "    }\n",
       "\n",
       "    .dataframe thead th {\n",
       "        text-align: right;\n",
       "    }\n",
       "</style>\n",
       "<table border=\"1\" class=\"dataframe\">\n",
       "  <thead>\n",
       "    <tr style=\"text-align: right;\">\n",
       "      <th></th>\n",
       "      <th>sex</th>\n",
       "      <th>month</th>\n",
       "      <th>year</th>\n",
       "      <th>rentals_made</th>\n",
       "    </tr>\n",
       "  </thead>\n",
       "  <tbody>\n",
       "    <tr>\n",
       "      <th>0</th>\n",
       "      <td>F</td>\n",
       "      <td>1</td>\n",
       "      <td>1991</td>\n",
       "      <td>35</td>\n",
       "    </tr>\n",
       "    <tr>\n",
       "      <th>1</th>\n",
       "      <td>F</td>\n",
       "      <td>1</td>\n",
       "      <td>1992</td>\n",
       "      <td>92</td>\n",
       "    </tr>\n",
       "    <tr>\n",
       "      <th>2</th>\n",
       "      <td>F</td>\n",
       "      <td>1</td>\n",
       "      <td>1995</td>\n",
       "      <td>68</td>\n",
       "    </tr>\n",
       "    <tr>\n",
       "      <th>3</th>\n",
       "      <td>F</td>\n",
       "      <td>1</td>\n",
       "      <td>1998</td>\n",
       "      <td>62</td>\n",
       "    </tr>\n",
       "    <tr>\n",
       "      <th>4</th>\n",
       "      <td>F</td>\n",
       "      <td>1</td>\n",
       "      <td>1999</td>\n",
       "      <td>15</td>\n",
       "    </tr>\n",
       "    <tr>\n",
       "      <th>5</th>\n",
       "      <td>F</td>\n",
       "      <td>2</td>\n",
       "      <td>1990</td>\n",
       "      <td>36</td>\n",
       "    </tr>\n",
       "    <tr>\n",
       "      <th>6</th>\n",
       "      <td>F</td>\n",
       "      <td>2</td>\n",
       "      <td>1995</td>\n",
       "      <td>58</td>\n",
       "    </tr>\n",
       "    <tr>\n",
       "      <th>7</th>\n",
       "      <td>F</td>\n",
       "      <td>3</td>\n",
       "      <td>1992</td>\n",
       "      <td>10</td>\n",
       "    </tr>\n",
       "    <tr>\n",
       "      <th>8</th>\n",
       "      <td>F</td>\n",
       "      <td>3</td>\n",
       "      <td>1995</td>\n",
       "      <td>67</td>\n",
       "    </tr>\n",
       "    <tr>\n",
       "      <th>9</th>\n",
       "      <td>F</td>\n",
       "      <td>3</td>\n",
       "      <td>1999</td>\n",
       "      <td>82</td>\n",
       "    </tr>\n",
       "    <tr>\n",
       "      <th>10</th>\n",
       "      <td>F</td>\n",
       "      <td>4</td>\n",
       "      <td>1997</td>\n",
       "      <td>47</td>\n",
       "    </tr>\n",
       "    <tr>\n",
       "      <th>11</th>\n",
       "      <td>F</td>\n",
       "      <td>4</td>\n",
       "      <td>1998</td>\n",
       "      <td>97</td>\n",
       "    </tr>\n",
       "    <tr>\n",
       "      <th>12</th>\n",
       "      <td>F</td>\n",
       "      <td>4</td>\n",
       "      <td>1999</td>\n",
       "      <td>27</td>\n",
       "    </tr>\n",
       "    <tr>\n",
       "      <th>13</th>\n",
       "      <td>F</td>\n",
       "      <td>4</td>\n",
       "      <td>2000</td>\n",
       "      <td>44</td>\n",
       "    </tr>\n",
       "    <tr>\n",
       "      <th>14</th>\n",
       "      <td>F</td>\n",
       "      <td>5</td>\n",
       "      <td>1990</td>\n",
       "      <td>53</td>\n",
       "    </tr>\n",
       "    <tr>\n",
       "      <th>15</th>\n",
       "      <td>F</td>\n",
       "      <td>5</td>\n",
       "      <td>2000</td>\n",
       "      <td>43</td>\n",
       "    </tr>\n",
       "    <tr>\n",
       "      <th>16</th>\n",
       "      <td>F</td>\n",
       "      <td>7</td>\n",
       "      <td>1993</td>\n",
       "      <td>81</td>\n",
       "    </tr>\n",
       "    <tr>\n",
       "      <th>17</th>\n",
       "      <td>F</td>\n",
       "      <td>7</td>\n",
       "      <td>1995</td>\n",
       "      <td>73</td>\n",
       "    </tr>\n",
       "    <tr>\n",
       "      <th>18</th>\n",
       "      <td>F</td>\n",
       "      <td>7</td>\n",
       "      <td>1996</td>\n",
       "      <td>54</td>\n",
       "    </tr>\n",
       "    <tr>\n",
       "      <th>19</th>\n",
       "      <td>F</td>\n",
       "      <td>7</td>\n",
       "      <td>1998</td>\n",
       "      <td>18</td>\n",
       "    </tr>\n",
       "    <tr>\n",
       "      <th>20</th>\n",
       "      <td>F</td>\n",
       "      <td>8</td>\n",
       "      <td>1991</td>\n",
       "      <td>50</td>\n",
       "    </tr>\n",
       "    <tr>\n",
       "      <th>21</th>\n",
       "      <td>F</td>\n",
       "      <td>8</td>\n",
       "      <td>1994</td>\n",
       "      <td>21</td>\n",
       "    </tr>\n",
       "    <tr>\n",
       "      <th>22</th>\n",
       "      <td>F</td>\n",
       "      <td>8</td>\n",
       "      <td>1996</td>\n",
       "      <td>15</td>\n",
       "    </tr>\n",
       "    <tr>\n",
       "      <th>23</th>\n",
       "      <td>F</td>\n",
       "      <td>8</td>\n",
       "      <td>1997</td>\n",
       "      <td>42</td>\n",
       "    </tr>\n",
       "    <tr>\n",
       "      <th>24</th>\n",
       "      <td>F</td>\n",
       "      <td>8</td>\n",
       "      <td>1998</td>\n",
       "      <td>69</td>\n",
       "    </tr>\n",
       "    <tr>\n",
       "      <th>25</th>\n",
       "      <td>F</td>\n",
       "      <td>9</td>\n",
       "      <td>1992</td>\n",
       "      <td>62</td>\n",
       "    </tr>\n",
       "    <tr>\n",
       "      <th>26</th>\n",
       "      <td>F</td>\n",
       "      <td>9</td>\n",
       "      <td>1996</td>\n",
       "      <td>29</td>\n",
       "    </tr>\n",
       "    <tr>\n",
       "      <th>27</th>\n",
       "      <td>F</td>\n",
       "      <td>9</td>\n",
       "      <td>1997</td>\n",
       "      <td>26</td>\n",
       "    </tr>\n",
       "    <tr>\n",
       "      <th>28</th>\n",
       "      <td>F</td>\n",
       "      <td>10</td>\n",
       "      <td>1990</td>\n",
       "      <td>77</td>\n",
       "    </tr>\n",
       "    <tr>\n",
       "      <th>29</th>\n",
       "      <td>F</td>\n",
       "      <td>10</td>\n",
       "      <td>1991</td>\n",
       "      <td>11</td>\n",
       "    </tr>\n",
       "    <tr>\n",
       "      <th>30</th>\n",
       "      <td>F</td>\n",
       "      <td>10</td>\n",
       "      <td>1993</td>\n",
       "      <td>92</td>\n",
       "    </tr>\n",
       "    <tr>\n",
       "      <th>31</th>\n",
       "      <td>F</td>\n",
       "      <td>10</td>\n",
       "      <td>1994</td>\n",
       "      <td>41</td>\n",
       "    </tr>\n",
       "    <tr>\n",
       "      <th>32</th>\n",
       "      <td>F</td>\n",
       "      <td>10</td>\n",
       "      <td>1996</td>\n",
       "      <td>64</td>\n",
       "    </tr>\n",
       "    <tr>\n",
       "      <th>33</th>\n",
       "      <td>F</td>\n",
       "      <td>10</td>\n",
       "      <td>1997</td>\n",
       "      <td>86</td>\n",
       "    </tr>\n",
       "    <tr>\n",
       "      <th>34</th>\n",
       "      <td>F</td>\n",
       "      <td>10</td>\n",
       "      <td>1999</td>\n",
       "      <td>14</td>\n",
       "    </tr>\n",
       "    <tr>\n",
       "      <th>35</th>\n",
       "      <td>F</td>\n",
       "      <td>11</td>\n",
       "      <td>1993</td>\n",
       "      <td>79</td>\n",
       "    </tr>\n",
       "    <tr>\n",
       "      <th>36</th>\n",
       "      <td>F</td>\n",
       "      <td>12</td>\n",
       "      <td>1991</td>\n",
       "      <td>16</td>\n",
       "    </tr>\n",
       "    <tr>\n",
       "      <th>37</th>\n",
       "      <td>F</td>\n",
       "      <td>12</td>\n",
       "      <td>1992</td>\n",
       "      <td>34</td>\n",
       "    </tr>\n",
       "    <tr>\n",
       "      <th>38</th>\n",
       "      <td>F</td>\n",
       "      <td>12</td>\n",
       "      <td>1993</td>\n",
       "      <td>36</td>\n",
       "    </tr>\n",
       "    <tr>\n",
       "      <th>39</th>\n",
       "      <td>F</td>\n",
       "      <td>12</td>\n",
       "      <td>1994</td>\n",
       "      <td>62</td>\n",
       "    </tr>\n",
       "    <tr>\n",
       "      <th>40</th>\n",
       "      <td>F</td>\n",
       "      <td>12</td>\n",
       "      <td>1998</td>\n",
       "      <td>90</td>\n",
       "    </tr>\n",
       "    <tr>\n",
       "      <th>41</th>\n",
       "      <td>M</td>\n",
       "      <td>4</td>\n",
       "      <td>1996</td>\n",
       "      <td>63</td>\n",
       "    </tr>\n",
       "    <tr>\n",
       "      <th>42</th>\n",
       "      <td>M</td>\n",
       "      <td>6</td>\n",
       "      <td>1990</td>\n",
       "      <td>64</td>\n",
       "    </tr>\n",
       "  </tbody>\n",
       "</table>\n",
       "</div>"
      ],
      "text/plain": [
       "   sex  month  year  rentals_made\n",
       "0    F      1  1991            35\n",
       "1    F      1  1992            92\n",
       "2    F      1  1995            68\n",
       "3    F      1  1998            62\n",
       "4    F      1  1999            15\n",
       "5    F      2  1990            36\n",
       "6    F      2  1995            58\n",
       "7    F      3  1992            10\n",
       "8    F      3  1995            67\n",
       "9    F      3  1999            82\n",
       "10   F      4  1997            47\n",
       "11   F      4  1998            97\n",
       "12   F      4  1999            27\n",
       "13   F      4  2000            44\n",
       "14   F      5  1990            53\n",
       "15   F      5  2000            43\n",
       "16   F      7  1993            81\n",
       "17   F      7  1995            73\n",
       "18   F      7  1996            54\n",
       "19   F      7  1998            18\n",
       "20   F      8  1991            50\n",
       "21   F      8  1994            21\n",
       "22   F      8  1996            15\n",
       "23   F      8  1997            42\n",
       "24   F      8  1998            69\n",
       "25   F      9  1992            62\n",
       "26   F      9  1996            29\n",
       "27   F      9  1997            26\n",
       "28   F     10  1990            77\n",
       "29   F     10  1991            11\n",
       "30   F     10  1993            92\n",
       "31   F     10  1994            41\n",
       "32   F     10  1996            64\n",
       "33   F     10  1997            86\n",
       "34   F     10  1999            14\n",
       "35   F     11  1993            79\n",
       "36   F     12  1991            16\n",
       "37   F     12  1992            34\n",
       "38   F     12  1993            36\n",
       "39   F     12  1994            62\n",
       "40   F     12  1998            90\n",
       "41   M      4  1996            63\n",
       "42   M      6  1990            64"
      ]
     },
     "execution_count": 41,
     "metadata": {},
     "output_type": "execute_result"
    }
   ],
   "source": [
    "berkeley_df[\"user_count\"] = berkeley_df.groupby([\"sex\",\"month\",\"year\"])[\"sex\"].transform(\"count\")\n",
    "\n",
    "## store the leaked combination\n",
    "identifiable_comb = identifiable_users[[\"sex\",\"month\",\"year\"]]\n",
    "\n",
    "## aggregate the berkeley_df by their user_count, identified by [sex month year], there are 255 in total\n",
    "temp = berkeley_df.groupby([\"sex\",\"month\",\"year\"])[['sex']].count()\n",
    "temp.columns = ['rentals_made']\n",
    "temp.reset_index(inplace = True)\n",
    "\n",
    "## match to those in the lead comb\n",
    "new_df = pd.merge(temp, identifiable_comb, on = [\"sex\",\"month\",\"year\"], how = 'right')\n",
    "\n",
    "### how many rentals each identifiable users make\n",
    "new_df.head(43)"
   ]
  },
  {
   "cell_type": "markdown",
   "metadata": {},
   "source": [
    "* Now, to extract the scooter rentals these people made in berkeley.csv, **simply match their [\"sex\" \"month\" \"year\"]**, and count how many records are found **corresponding to each [\"sex\" \"month\" \"year\"] combination**. <br/><br/>\n",
    "* The quantity of rides of each \"identifiable user\" made in berkeley.csv is displayed in the data frame **above**. Similar method can be applied to extract the record made by each \"identifiable user\" in berkeley.csv."
   ]
  },
  {
   "cell_type": "markdown",
   "metadata": {},
   "source": [
    "## 2.3 A More Elaborate Attack\n",
    "* In this section, a more elaborate linkage attack that makes use of the zip code information will be conducted.\n",
    "* Assume that users will tend to rent scooters with start and end location with the same zip code as their address. \n",
    "* Users will **rent a bike from another (uniformly sampled) zip code with probability $p_{1}$**, similarly users will end a **rental at a different zip code from their address with probability $p_{2}$**. In other words the distribution on whether a user will start or end a rental at a zip code different from their address is given by **Bern($p_{1}$)** and **Bern($p_{2}$)** respectively."
   ]
  },
  {
   "cell_type": "markdown",
   "metadata": {},
   "source": [
    "### 2.3.1 estimating $p_{1}$, $p_{2}$\n",
    "* I first match the \"identifiable user\" with berkeley.csv, then whoever matches on <br/>\"sex\" \"month\" \"year\" are the theoretical identifiable users. These people's info can <br/>be fully recovered if berkeley.csv has their home zip code, and there are 2205 of them.  \n",
    "\n",
    "\n",
    "* Now, to estimate $p_{1}$ and $p_{1}$, with the identifiable users from the leak.csv like 2.2,<br/>and matches these people with the data in berkeley.csv. Since the identifiable users' <br/>home zip code are provided, we have the following dataframe displayed.  \n",
    "\n",
    "\n",
    "* Therefore, we can finally estimate p1 by seeing how many people have a \"start zip code\" <br/>(start column in leak_sample) different from \"home zip code\"(zip column in leak_sample); <br/>and similarly, estimate p2 by seeing how many people have a \"end zip code\"(end column in <br/>leak_sample) different from \"home zip code\"(zip column in leak_sample).\n"
   ]
  },
  {
   "cell_type": "code",
   "execution_count": 42,
   "metadata": {},
   "outputs": [
    {
     "data": {
      "text/html": [
       "<div>\n",
       "<style scoped>\n",
       "    .dataframe tbody tr th:only-of-type {\n",
       "        vertical-align: middle;\n",
       "    }\n",
       "\n",
       "    .dataframe tbody tr th {\n",
       "        vertical-align: top;\n",
       "    }\n",
       "\n",
       "    .dataframe thead th {\n",
       "        text-align: right;\n",
       "    }\n",
       "</style>\n",
       "<table border=\"1\" class=\"dataframe\">\n",
       "  <thead>\n",
       "    <tr style=\"text-align: right;\">\n",
       "      <th></th>\n",
       "      <th>name</th>\n",
       "      <th>sex</th>\n",
       "      <th>zip</th>\n",
       "      <th>month</th>\n",
       "      <th>year</th>\n",
       "      <th>start</th>\n",
       "      <th>end</th>\n",
       "      <th>user_count</th>\n",
       "    </tr>\n",
       "  </thead>\n",
       "  <tbody>\n",
       "    <tr>\n",
       "      <th>0</th>\n",
       "      <td>Emily Phillips</td>\n",
       "      <td>F</td>\n",
       "      <td>94702</td>\n",
       "      <td>1</td>\n",
       "      <td>1995</td>\n",
       "      <td>94702</td>\n",
       "      <td>94702</td>\n",
       "      <td>68</td>\n",
       "    </tr>\n",
       "    <tr>\n",
       "      <th>1</th>\n",
       "      <td>Emily Phillips</td>\n",
       "      <td>F</td>\n",
       "      <td>94702</td>\n",
       "      <td>1</td>\n",
       "      <td>1995</td>\n",
       "      <td>94702</td>\n",
       "      <td>94702</td>\n",
       "      <td>68</td>\n",
       "    </tr>\n",
       "    <tr>\n",
       "      <th>2</th>\n",
       "      <td>Emily Phillips</td>\n",
       "      <td>F</td>\n",
       "      <td>94702</td>\n",
       "      <td>1</td>\n",
       "      <td>1995</td>\n",
       "      <td>94702</td>\n",
       "      <td>94702</td>\n",
       "      <td>68</td>\n",
       "    </tr>\n",
       "    <tr>\n",
       "      <th>3</th>\n",
       "      <td>Emily Phillips</td>\n",
       "      <td>F</td>\n",
       "      <td>94702</td>\n",
       "      <td>1</td>\n",
       "      <td>1995</td>\n",
       "      <td>94708</td>\n",
       "      <td>94702</td>\n",
       "      <td>68</td>\n",
       "    </tr>\n",
       "    <tr>\n",
       "      <th>4</th>\n",
       "      <td>Emily Phillips</td>\n",
       "      <td>F</td>\n",
       "      <td>94702</td>\n",
       "      <td>1</td>\n",
       "      <td>1995</td>\n",
       "      <td>94702</td>\n",
       "      <td>94702</td>\n",
       "      <td>68</td>\n",
       "    </tr>\n",
       "  </tbody>\n",
       "</table>\n",
       "</div>"
      ],
      "text/plain": [
       "             name sex    zip  month  year  start    end  user_count\n",
       "0  Emily Phillips   F  94702      1  1995  94702  94702          68\n",
       "1  Emily Phillips   F  94702      1  1995  94702  94702          68\n",
       "2  Emily Phillips   F  94702      1  1995  94702  94702          68\n",
       "3  Emily Phillips   F  94702      1  1995  94708  94702          68\n",
       "4  Emily Phillips   F  94702      1  1995  94702  94702          68"
      ]
     },
     "execution_count": 42,
     "metadata": {},
     "output_type": "execute_result"
    }
   ],
   "source": [
    "leak_sample = pd.merge(leak_df, berkeley_df, on = [\"sex\",\"month\",\"year\"])\n",
    "leak_sample = pd.merge(leak_sample, identifiable_users[[\"sex\",\"month\",\"year\"]], on = [\"sex\",\"month\",\"year\"])\n",
    "leak_sample.head()"
   ]
  },
  {
   "cell_type": "code",
   "execution_count": 44,
   "metadata": {},
   "outputs": [],
   "source": [
    "### trips that start somewhere not home\n",
    "p1_hat = np.sum(leak_sample[\"start\"] != leak_sample[\"zip\"])/len(leak_sample)\n",
    "### trips that end somewhere not home\n",
    "p2_hat = np.sum(leak_sample[\"end\"] != leak_sample[\"zip\"])/len(leak_sample)"
   ]
  },
  {
   "cell_type": "markdown",
   "metadata": {},
   "source": [
    "* With all procedures above proceeded,     \n",
    "  $\\hat p_1 = 0.0965$,    \n",
    "  $\\hat p_2 = 0.278$"
   ]
  },
  {
   "cell_type": "markdown",
   "metadata": {},
   "source": [
    "### 2.3.2 generate 95% confidence interval"
   ]
  },
  {
   "cell_type": "markdown",
   "metadata": {},
   "source": [
    "The randomness of the estimate of $p_{1}$ and $p_{2}$ come from only 2205 of data are used to estimate $p_{1}$ and $p_{2}$, since only these people's home zip is \"leaked\". <br/><br/>\n",
    "To get the confidence of interval of $p_{1}$ and $p_{2}$, we'll calculate the estimated variance of $p_{1}$ and $p_{2}$ by applying the unbiased estimator formula of variance,    \n",
    "\n",
    "$S^2 = \\frac{1}{n-1}\\sum_{i = 1}^{n}(y_i - \\bar y)^2$,  \n",
    "\n",
    "Then, to get a better bound for p1 and p2, since they are bounded variables in [0,1]. I apply Hoeffding bound to further restrict the range they lie in.  \n",
    "\n",
    "To be more specific, here's how we derived it for this Bernouli distribution:  \n",
    "\n",
    "$P(|\\bar y - p| \\geq t) \\leq 2e^{-2nt^2}$    \n",
    "\n",
    "$P(|\\bar y - p| < t) \\geq 1 - 2e^{-2nt^2}$    \n",
    "\n",
    "If we want 95% confidence interval, set right hand side to 0.95 and solve for t, we get,    \n",
    "\n",
    "$t = \\sqrt{-\\frac{1}{2n}\\log{0.025}}$, \n",
    "rewrite the confidence interval, we have,  \n",
    "\n",
    "$P(\\quad\\bar y - \\sqrt{-\\frac{1}{2n}\\log{0.025}} < p < \\bar y + \\sqrt{-\\frac{1}{2n}\\log{0.025}}\\quad )\\geq 0.95$.\n",
    "\n",
    "In summary, \n",
    "\n",
    "$\\hat p_1 = 0.09659$, with 95% confidence interval [0.06767, 0.12552];  \n",
    "\n",
    "$\\hat p_2 = 0.27800$, with 95% confidence interval [0.24908, 0.30692].\n",
    "\n",
    "The calculation procedures are given below."
   ]
  },
  {
   "cell_type": "code",
   "execution_count": 45,
   "metadata": {},
   "outputs": [
    {
     "name": "stdout",
     "output_type": "stream",
     "text": [
      "0.29541046411912036\n",
      "0.4480156398886925\n"
     ]
    }
   ],
   "source": [
    "print(np.std(leak_sample[\"start\"] != leak_sample[\"zip\"]))\n",
    "print(np.std(leak_sample[\"end\"] != leak_sample[\"zip\"]))"
   ]
  },
  {
   "cell_type": "code",
   "execution_count": 47,
   "metadata": {},
   "outputs": [
    {
     "name": "stdout",
     "output_type": "stream",
     "text": [
      "0.06767666507919635\n",
      "0.1255206138323683\n",
      "confidence interval of p1: [0.06767, 0.12552]\n"
     ]
    }
   ],
   "source": [
    "### for p1\n",
    "t = math.sqrt((-1/4410)*math.log(0.025))\n",
    "l_bound = p1_hat - t\n",
    "u_bound = p1_hat + t\n",
    "print(l_bound)\n",
    "print(u_bound)\n",
    "print(\"confidence interval of p1: [0.06767, 0.12552]\")"
   ]
  },
  {
   "cell_type": "code",
   "execution_count": 46,
   "metadata": {},
   "outputs": [
    {
     "name": "stdout",
     "output_type": "stream",
     "text": [
      "0.24908256077080637\n",
      "0.30692650952397826\n",
      "confidence interval of p2: [0.24908, 0.30692]\n"
     ]
    }
   ],
   "source": [
    "### for p2\n",
    "t = math.sqrt((-1/4410)*math.log(0.025))\n",
    "l_bound = p2_hat - t\n",
    "u_bound = p2_hat + t\n",
    "print(l_bound)\n",
    "print(u_bound)\n",
    "print(\"confidence interval of p2: [0.24908, 0.30692]\")"
   ]
  },
  {
   "cell_type": "markdown",
   "metadata": {},
   "source": [
    "### 2.3.3 & 2.3.4 Theoretically Identifiable Users"
   ]
  },
  {
   "cell_type": "code",
   "execution_count": 48,
   "metadata": {},
   "outputs": [
    {
     "data": {
      "text/plain": [
       "2205"
      ]
     },
     "execution_count": 48,
     "metadata": {},
     "output_type": "execute_result"
    }
   ],
   "source": [
    "theo_iden_users = pd.merge(identifiable_users[[\"sex\",\"month\",\"year\"]], berkeley_df, on = [\"sex\",\"month\",\"year\"])\n",
    "len(theo_iden_users)"
   ]
  },
  {
   "cell_type": "markdown",
   "metadata": {},
   "source": [
    "* There are 2205 theoretically identifiable users if berkeley csv also provide home <br/>zip code for each user. I do this by matching the identifiable users' info with the <br/>berkekley.csv's record."
   ]
  },
  {
   "cell_type": "markdown",
   "metadata": {},
   "source": [
    "### 2.3.5 Algorithm for return the most likely user given a specific trip\n",
    "\n",
    "1. Given a trip, look at the combined information [\"sex\" \"month\" \"year\"] of the trip, and see if it's in the \"identifiable user\" group. If yes, then return the corresponding user information from the \"identifiable user\"; if not, run the following steps.  \n",
    "\n",
    "\n",
    "2. Include one more variable \"start\" into the combined information [\"sex\" \"month\" \"year\" \"start\"] to the given trip. Assume \"start\" is the home address of the user, and matches the information in Leak.csv with [\"sex\" \"month\" \"year\" \"zip\"], this should return a bunch of users. For each of these users, there's on average a $1-\\hat p_1$ chance for each user to be exactly the user idenitified in Leak.csv, store this probability as a_1. \n",
    "\n",
    "\n",
    "3. Similarly, include another variable \"end\" into the combined information [\"sex\" \"month\" \"year\" \"end\"] to the given trip. Assume \"end\" is the home address of the user, and matches the information in Leak.csv with [\"sex\" \"month\" \"year\" \"zip\"], this should return another bunch of users. For each of these users, there's on average a $1-\\hat p_2$ chance for each user to be exactly the user idenitified in Leak.csv, store this probability as a_2.\n",
    "\n",
    "\n",
    "4. Add up a_1, a_2 for each user, the user with highest sum of a_1 and a_2(may be more than one) will be the most likely user given a trip. If more than one user have the highest sum, we'll randomly return one of them or return all of them depends on the needs."
   ]
  },
  {
   "cell_type": "markdown",
   "metadata": {},
   "source": [
    "## 2.4 Takeaways "
   ]
  },
  {
   "cell_type": "markdown",
   "metadata": {},
   "source": [
    "- Privacy can be leaked unintentionally, name and date of birth is not the only way to   \n",
    "uniquely identify a person's identity. When a user hardly rent a scooter, the risk of  \n",
    "being \"identified\" is higher, because there's more \"uniqueness\" for this group of people.   \n",
    "Once the privacy is leaked, it's hardly recoverable.\n",
    "\n",
    "\n",
    "\n",
    "- Let the users whose information is leaked create a new account for scooter rentals,   \n",
    "and release the data in a more private way in the future, so that the trip information   \n",
    "of users in the future won't be \"hacked\"; For the \"theoretical identifiable users\", don't   \n",
    "release their home zip ever in the future.   \n",
    "\n",
    "\n",
    "\n",
    "- When releasing the dataset, besides erasing sensitive information, like name and date   \n",
    "of birth, we shall also think of if any combination of the data in the dataset can uniquely  \n",
    "identify a person. Also, before releasing a dataset, take consideration of the data that   \n",
    "had been released.  \n",
    "If there's anything similar that's already released, be more careful since if the two dataset   \n",
    "are similar then privacy might get \"hacked\" by simply matching the information between   \n",
    "two dataset."
   ]
  },
  {
   "cell_type": "code",
   "execution_count": null,
   "metadata": {},
   "outputs": [],
   "source": []
  }
 ],
 "metadata": {
  "kernelspec": {
   "display_name": "Python 3",
   "language": "python",
   "name": "python3"
  },
  "language_info": {
   "codemirror_mode": {
    "name": "ipython",
    "version": 3
   },
   "file_extension": ".py",
   "mimetype": "text/x-python",
   "name": "python",
   "nbconvert_exporter": "python",
   "pygments_lexer": "ipython3",
   "version": "3.8.3"
  }
 },
 "nbformat": 4,
 "nbformat_minor": 4
}
